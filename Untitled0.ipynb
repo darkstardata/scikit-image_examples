{
 "metadata": {
  "name": "",
  "signature": "sha256:85ba52c57c233021008cf5113e1a055a9910bf344447c4a8cbedec1519a48cc2"
 },
 "nbformat": 3,
 "nbformat_minor": 0,
 "worksheets": [
  {
   "cells": [
    {
     "cell_type": "code",
     "collapsed": false,
     "input": [
      "import numpy as np\n",
      "import matplotlib.pyplot as plt\n",
      "\n",
      "from skimage import data\n",
      "from skimage import morphology\n",
      "from scipy import ndimage\n",
      "from skimage.color import label2rgb\n",
      "from skimage.filter import sobel\n",
      "\n",
      "elevation_map = sobel(coins)\n",
      "segmentation = morphology.watershed(elevation_map, markers)\n",
      "segmentation = ndimage.binary_fill_holes(segmentation - 1)\n",
      "labeled_coins, _ = ndimage.label(segmentation)\n",
      "image_label_overlay = label2rgb(labeled_coins, image=coins)\n",
      "\n",
      "fig, (ax1, ax2) = plt.subplots(1, 2, figsize=(6, 3))\n",
      "ax1.imshow(coins, cmap=plt.cm.gray, interpolation='nearest')\n",
      "ax1.contour(segmentation, [0.5], linewidths=1.2, colors='y')\n",
      "ax1.axis('off')\n",
      "ax2.imshow(image_label_overlay, interpolation='nearest')\n",
      "ax2.axis('off')\n",
      "\n",
      "fig.subplots_adjust(**margins)"
     ],
     "language": "python",
     "metadata": {},
     "outputs": [
      {
       "ename": "NameError",
       "evalue": "name 'coins' is not defined",
       "output_type": "pyerr",
       "traceback": [
        "\u001b[0;31m---------------------------------------------------------------------------\u001b[0m\n\u001b[0;31mNameError\u001b[0m                                 Traceback (most recent call last)",
        "\u001b[0;32m<ipython-input-7-2b1fbcd860a2>\u001b[0m in \u001b[0;36m<module>\u001b[0;34m()\u001b[0m\n\u001b[1;32m      8\u001b[0m \u001b[0;32mfrom\u001b[0m \u001b[0mskimage\u001b[0m\u001b[0;34m.\u001b[0m\u001b[0mfilter\u001b[0m \u001b[0;32mimport\u001b[0m \u001b[0msobel\u001b[0m\u001b[0;34m\u001b[0m\u001b[0m\n\u001b[1;32m      9\u001b[0m \u001b[0;34m\u001b[0m\u001b[0m\n\u001b[0;32m---> 10\u001b[0;31m \u001b[0melevation_map\u001b[0m \u001b[0;34m=\u001b[0m \u001b[0msobel\u001b[0m\u001b[0;34m(\u001b[0m\u001b[0mcoins\u001b[0m\u001b[0;34m)\u001b[0m\u001b[0;34m\u001b[0m\u001b[0m\n\u001b[0m\u001b[1;32m     11\u001b[0m \u001b[0msegmentation\u001b[0m \u001b[0;34m=\u001b[0m \u001b[0mmorphology\u001b[0m\u001b[0;34m.\u001b[0m\u001b[0mwatershed\u001b[0m\u001b[0;34m(\u001b[0m\u001b[0melevation_map\u001b[0m\u001b[0;34m,\u001b[0m \u001b[0mmarkers\u001b[0m\u001b[0;34m)\u001b[0m\u001b[0;34m\u001b[0m\u001b[0m\n\u001b[1;32m     12\u001b[0m \u001b[0msegmentation\u001b[0m \u001b[0;34m=\u001b[0m \u001b[0mndimage\u001b[0m\u001b[0;34m.\u001b[0m\u001b[0mbinary_fill_holes\u001b[0m\u001b[0;34m(\u001b[0m\u001b[0msegmentation\u001b[0m \u001b[0;34m-\u001b[0m \u001b[0;36m1\u001b[0m\u001b[0;34m)\u001b[0m\u001b[0;34m\u001b[0m\u001b[0m\n",
        "\u001b[0;31mNameError\u001b[0m: name 'coins' is not defined"
       ]
      }
     ],
     "prompt_number": 7
    },
    {
     "cell_type": "code",
     "collapsed": false,
     "input": [
      "import pip\n",
      "from subprocess import call\n",
      "\n",
      "for dist in pip.get_installed_distributions():\n",
      "    call(\"pip install --upgrade \" + dist.project_name, shell=True)\n",
      "    print 'finished'"
     ],
     "language": "python",
     "metadata": {},
     "outputs": [
      {
       "output_type": "stream",
       "stream": "stdout",
       "text": [
        "finished\n",
        "finished\n",
        "finished\n",
        "finished\n",
        "finished\n",
        "finished\n",
        "finished"
       ]
      },
      {
       "output_type": "stream",
       "stream": "stdout",
       "text": [
        "\n",
        "finished\n",
        "finished\n",
        "finished\n",
        "finished\n",
        "finished\n",
        "finished"
       ]
      },
      {
       "output_type": "stream",
       "stream": "stdout",
       "text": [
        "\n",
        "finished\n",
        "finished\n",
        "finished\n",
        "finished\n",
        "finished"
       ]
      },
      {
       "output_type": "stream",
       "stream": "stdout",
       "text": [
        "\n",
        "finished\n",
        "finished\n",
        "finished\n",
        "finished\n",
        "finished\n",
        "finished"
       ]
      },
      {
       "output_type": "stream",
       "stream": "stdout",
       "text": [
        "\n",
        "finished\n",
        "finished\n",
        "finished\n",
        "finished\n",
        "finished\n",
        "finished"
       ]
      },
      {
       "output_type": "stream",
       "stream": "stdout",
       "text": [
        "\n",
        "finished\n",
        "finished\n",
        "finished\n",
        "finished\n",
        "finished\n",
        "finished"
       ]
      },
      {
       "output_type": "stream",
       "stream": "stdout",
       "text": [
        "\n",
        "finished\n",
        "finished\n",
        "finished\n",
        "finished\n",
        "finished\n",
        "finished"
       ]
      },
      {
       "output_type": "stream",
       "stream": "stdout",
       "text": [
        "\n",
        "finished\n",
        "finished\n",
        "finished\n",
        "finished\n",
        "finished\n",
        "finished"
       ]
      },
      {
       "output_type": "stream",
       "stream": "stdout",
       "text": [
        "\n",
        "finished\n",
        "finished\n",
        "finished\n",
        "finished\n",
        "finished\n",
        "finished"
       ]
      },
      {
       "output_type": "stream",
       "stream": "stdout",
       "text": [
        "\n",
        "finished\n",
        "finished\n",
        "finished\n",
        "finished\n",
        "finished\n",
        "finished"
       ]
      },
      {
       "output_type": "stream",
       "stream": "stdout",
       "text": [
        "\n",
        "finished\n",
        "finished\n",
        "finished\n",
        "finished\n",
        "finished\n",
        "finished"
       ]
      },
      {
       "output_type": "stream",
       "stream": "stdout",
       "text": [
        "\n",
        "finished\n",
        "finished\n",
        "finished\n",
        "finished\n",
        "finished\n",
        "finished"
       ]
      },
      {
       "output_type": "stream",
       "stream": "stdout",
       "text": [
        "\n",
        "finished\n",
        "finished\n",
        "finished\n",
        "finished\n",
        "finished\n",
        "finished"
       ]
      },
      {
       "output_type": "stream",
       "stream": "stdout",
       "text": [
        "\n",
        "finished\n",
        "finished\n",
        "finished\n",
        "finished\n",
        "finished\n",
        "finished"
       ]
      },
      {
       "output_type": "stream",
       "stream": "stdout",
       "text": [
        "\n",
        "finished\n",
        "finished\n",
        "finished\n",
        "finished\n",
        "finished\n",
        "finished"
       ]
      },
      {
       "output_type": "stream",
       "stream": "stdout",
       "text": [
        "\n",
        "finished\n",
        "finished\n",
        "finished\n",
        "finished\n",
        "finished\n",
        "finished"
       ]
      },
      {
       "output_type": "stream",
       "stream": "stdout",
       "text": [
        "\n",
        "finished\n",
        "finished\n",
        "finished\n",
        "finished\n",
        "finished\n",
        "finished"
       ]
      },
      {
       "output_type": "stream",
       "stream": "stdout",
       "text": [
        "\n",
        "finished\n",
        "finished\n",
        "finished\n",
        "finished\n",
        "finished\n",
        "finished"
       ]
      },
      {
       "output_type": "stream",
       "stream": "stdout",
       "text": [
        "\n",
        "finished\n",
        "finished\n",
        "finished\n",
        "finished\n",
        "finished\n",
        "finished"
       ]
      },
      {
       "output_type": "stream",
       "stream": "stdout",
       "text": [
        "\n",
        "finished\n",
        "finished\n",
        "finished\n",
        "finished\n",
        "finished\n",
        "finished"
       ]
      },
      {
       "output_type": "stream",
       "stream": "stdout",
       "text": [
        "\n",
        "finished\n",
        "finished\n",
        "finished\n",
        "finished\n",
        "finished\n",
        "finished"
       ]
      },
      {
       "output_type": "stream",
       "stream": "stdout",
       "text": [
        "\n",
        "finished\n",
        "finished\n",
        "finished\n",
        "finished\n",
        "finished\n",
        "finished"
       ]
      },
      {
       "output_type": "stream",
       "stream": "stdout",
       "text": [
        "\n",
        "finished\n",
        "finished\n",
        "finished\n",
        "finished\n",
        "finished\n",
        "finished"
       ]
      },
      {
       "output_type": "stream",
       "stream": "stdout",
       "text": [
        "\n",
        "finished\n",
        "finished\n",
        "finished\n",
        "finished\n",
        "finished\n",
        "finished"
       ]
      },
      {
       "output_type": "stream",
       "stream": "stdout",
       "text": [
        "\n",
        "finished\n",
        "finished\n",
        "finished\n",
        "finished\n",
        "finished\n",
        "finished"
       ]
      },
      {
       "output_type": "stream",
       "stream": "stdout",
       "text": [
        "\n",
        "finished\n",
        "finished\n",
        "finished\n",
        "finished\n",
        "finished\n",
        "finished"
       ]
      },
      {
       "output_type": "stream",
       "stream": "stdout",
       "text": [
        "\n",
        "finished\n",
        "finished\n",
        "finished\n",
        "finished\n",
        "finished\n",
        "finished"
       ]
      },
      {
       "output_type": "stream",
       "stream": "stdout",
       "text": [
        "\n",
        "finished\n",
        "finished\n",
        "finished\n",
        "finished\n",
        "finished\n",
        "finished"
       ]
      },
      {
       "output_type": "stream",
       "stream": "stdout",
       "text": [
        "\n",
        "finished\n",
        "finished\n",
        "finished\n",
        "finished\n",
        "finished\n",
        "finished"
       ]
      },
      {
       "output_type": "stream",
       "stream": "stdout",
       "text": [
        "\n",
        "finished\n",
        "finished\n",
        "finished\n",
        "finished\n",
        "finished\n",
        "finished"
       ]
      },
      {
       "output_type": "stream",
       "stream": "stdout",
       "text": [
        "\n",
        "finished\n",
        "finished\n",
        "finished\n",
        "finished\n",
        "finished\n",
        "finished"
       ]
      },
      {
       "output_type": "stream",
       "stream": "stdout",
       "text": [
        "\n",
        "finished\n",
        "finished\n",
        "finished\n",
        "finished\n",
        "finished\n",
        "finished"
       ]
      },
      {
       "output_type": "stream",
       "stream": "stdout",
       "text": [
        "\n",
        "finished\n",
        "finished\n",
        "finished\n",
        "finished\n",
        "finished\n",
        "finished"
       ]
      },
      {
       "output_type": "stream",
       "stream": "stdout",
       "text": [
        "\n",
        "finished\n",
        "finished\n",
        "finished\n",
        "finished\n",
        "finished\n"
       ]
      }
     ],
     "prompt_number": 2
    },
    {
     "cell_type": "code",
     "collapsed": false,
     "input": [],
     "language": "python",
     "metadata": {},
     "outputs": []
    }
   ],
   "metadata": {}
  }
 ]
}